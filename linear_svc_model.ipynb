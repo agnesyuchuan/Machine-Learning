{
 "cells": [
  {
   "cell_type": "markdown",
   "id": "9d4da26e",
   "metadata": {},
   "source": [
    "### Only take screen shots of streamlit code instead of machine_learning model"
   ]
  },
  {
   "cell_type": "code",
   "execution_count": 1,
   "id": "56913cec",
   "metadata": {},
   "outputs": [],
   "source": [
    "import numpy as np\n",
    "import pandas as pd\n",
    "from sklearn.model_selection import train_test_split\n",
    "from sklearn.feature_extraction.text import CountVectorizer\n",
    "from sklearn.model_selection import cross_val_score\n",
    "from sklearn.svm import LinearSVC\n",
    "from sklearn import metrics"
   ]
  },
  {
   "cell_type": "code",
   "execution_count": 14,
   "id": "cb912444",
   "metadata": {},
   "outputs": [],
   "source": [
    "df=pd.read_csv('/Users/apple/Desktop/Machine_Learning/week_7/IMDB_movie_reviews_train.csv')\n",
    "# /Users/apple/Desktop/Machine_Learning/week_7"
   ]
  },
  {
   "cell_type": "code",
   "execution_count": 15,
   "id": "492df5e9",
   "metadata": {},
   "outputs": [
    {
     "data": {
      "text/plain": [
       "(10000, 2)"
      ]
     },
     "execution_count": 15,
     "metadata": {},
     "output_type": "execute_result"
    }
   ],
   "source": [
    "df.shape"
   ]
  },
  {
   "cell_type": "code",
   "execution_count": 16,
   "id": "fe97975e",
   "metadata": {},
   "outputs": [
    {
     "data": {
      "text/html": [
       "<div>\n",
       "<style scoped>\n",
       "    .dataframe tbody tr th:only-of-type {\n",
       "        vertical-align: middle;\n",
       "    }\n",
       "\n",
       "    .dataframe tbody tr th {\n",
       "        vertical-align: top;\n",
       "    }\n",
       "\n",
       "    .dataframe thead th {\n",
       "        text-align: right;\n",
       "    }\n",
       "</style>\n",
       "<table border=\"1\" class=\"dataframe\">\n",
       "  <thead>\n",
       "    <tr style=\"text-align: right;\">\n",
       "      <th></th>\n",
       "      <th>review</th>\n",
       "      <th>sentiment</th>\n",
       "    </tr>\n",
       "  </thead>\n",
       "  <tbody>\n",
       "    <tr>\n",
       "      <th>0</th>\n",
       "      <td>From the beginning of this film,with it's \"The...</td>\n",
       "      <td>negative</td>\n",
       "    </tr>\n",
       "    <tr>\n",
       "      <th>1</th>\n",
       "      <td>1 hour and 40 minutes of talking--boring talki...</td>\n",
       "      <td>negative</td>\n",
       "    </tr>\n",
       "    <tr>\n",
       "      <th>2</th>\n",
       "      <td>I watched 40 minutes and couldn't bear it any ...</td>\n",
       "      <td>negative</td>\n",
       "    </tr>\n",
       "    <tr>\n",
       "      <th>3</th>\n",
       "      <td>Jim Carrey is back to much the same role that ...</td>\n",
       "      <td>positive</td>\n",
       "    </tr>\n",
       "    <tr>\n",
       "      <th>4</th>\n",
       "      <td>This is a silly spoof of private eye thrillers...</td>\n",
       "      <td>negative</td>\n",
       "    </tr>\n",
       "  </tbody>\n",
       "</table>\n",
       "</div>"
      ],
      "text/plain": [
       "                                              review sentiment\n",
       "0  From the beginning of this film,with it's \"The...  negative\n",
       "1  1 hour and 40 minutes of talking--boring talki...  negative\n",
       "2  I watched 40 minutes and couldn't bear it any ...  negative\n",
       "3  Jim Carrey is back to much the same role that ...  positive\n",
       "4  This is a silly spoof of private eye thrillers...  negative"
      ]
     },
     "execution_count": 16,
     "metadata": {},
     "output_type": "execute_result"
    }
   ],
   "source": [
    "df.head(5)"
   ]
  },
  {
   "cell_type": "code",
   "execution_count": 17,
   "id": "c885bc6e",
   "metadata": {},
   "outputs": [
    {
     "data": {
      "text/plain": [
       "review       0\n",
       "sentiment    0\n",
       "dtype: int64"
      ]
     },
     "execution_count": 17,
     "metadata": {},
     "output_type": "execute_result"
    }
   ],
   "source": [
    "df.isna().sum()"
   ]
  },
  {
   "cell_type": "code",
   "execution_count": 18,
   "id": "0deec86f",
   "metadata": {},
   "outputs": [
    {
     "data": {
      "text/plain": [
       "negative    5000\n",
       "positive    5000\n",
       "Name: sentiment, dtype: int64"
      ]
     },
     "execution_count": 18,
     "metadata": {},
     "output_type": "execute_result"
    }
   ],
   "source": [
    "df.sentiment.value_counts()"
   ]
  },
  {
   "cell_type": "code",
   "execution_count": 19,
   "id": "d97ea643",
   "metadata": {},
   "outputs": [],
   "source": [
    "X=df.loc[:,['review']]\n",
    "y=df.sentiment"
   ]
  },
  {
   "cell_type": "code",
   "execution_count": 20,
   "id": "8849e5e7",
   "metadata": {},
   "outputs": [],
   "source": [
    "X_train,X_test,y_train,y_test=train_test_split(X,y,test_size=0.3,stratify=y)"
   ]
  },
  {
   "cell_type": "code",
   "execution_count": 21,
   "id": "f530850d",
   "metadata": {},
   "outputs": [
    {
     "data": {
      "text/plain": [
       "negative    3500\n",
       "positive    3500\n",
       "Name: sentiment, dtype: int64"
      ]
     },
     "execution_count": 21,
     "metadata": {},
     "output_type": "execute_result"
    }
   ],
   "source": [
    "y_train.value_counts()"
   ]
  },
  {
   "cell_type": "code",
   "execution_count": 22,
   "id": "c89b0f35",
   "metadata": {},
   "outputs": [],
   "source": [
    "X_train_docs=[doc for doc in X_train.review]"
   ]
  },
  {
   "cell_type": "code",
   "execution_count": 23,
   "id": "e54914d9",
   "metadata": {},
   "outputs": [],
   "source": [
    "vect=CountVectorizer(ngram_range=(1,3),stop_words='english',max_features=1000).fit(X_train_docs)"
   ]
  },
  {
   "cell_type": "code",
   "execution_count": 24,
   "id": "172e2140",
   "metadata": {},
   "outputs": [],
   "source": [
    "X_train_features=vect.transform(X_train_docs)"
   ]
  },
  {
   "cell_type": "code",
   "execution_count": 25,
   "id": "1ccedd3c",
   "metadata": {},
   "outputs": [],
   "source": [
    "import pickle\n",
    "pickle.dump(vect,open('feature_transform','wb'))\n",
    "feature_transform=pickle.load(open('feature_transform','rb'))"
   ]
  },
  {
   "cell_type": "code",
   "execution_count": 26,
   "id": "54e5ffd9",
   "metadata": {},
   "outputs": [
    {
     "data": {
      "text/plain": [
       "CountVectorizer(max_features=1000, ngram_range=(1, 3), stop_words='english')"
      ]
     },
     "execution_count": 26,
     "metadata": {},
     "output_type": "execute_result"
    }
   ],
   "source": [
    "feature_transform"
   ]
  },
  {
   "cell_type": "code",
   "execution_count": 35,
   "id": "216704cd",
   "metadata": {},
   "outputs": [
    {
     "name": "stdout",
     "output_type": "stream",
     "text": [
      "X_train_features:\n",
      "<7000x1000 sparse matrix of type '<class 'numpy.int64'>'\n",
      "\twith 334197 stored elements in Compressed Sparse Row format>\n"
     ]
    }
   ],
   "source": [
    "print('X_train_features:\\n{}'.format(repr(X_train_features)))"
   ]
  },
  {
   "cell_type": "code",
   "execution_count": 36,
   "id": "824144c5",
   "metadata": {},
   "outputs": [],
   "source": [
    "feature_names=vect.get_feature_names()"
   ]
  },
  {
   "cell_type": "code",
   "execution_count": 37,
   "id": "5a7486da",
   "metadata": {},
   "outputs": [
    {
     "name": "stdout",
     "output_type": "stream",
     "text": [
      "Number of features:1000\n",
      "First 100 features:\n",
      "['10', '100', '15', '20', '30', '50', '80', '90', 'able', 'absolutely', 'act', 'acted', 'acting', 'action', 'actor', 'actors', 'actress', 'actual', 'actually', 'adaptation', 'add', 'added', 'admit', 'adult', 'adventure', 'age', 'ago', 'agree', 'air', 'alien', 'alive', 'amazing', 'america', 'american', 'animation', 'annoying', 'anti', 'apart', 'apparently', 'appear', 'appears', 'appreciate', 'aren', 'art', 'ask', 'atmosphere', 'attempt', 'attempts', 'attention', 'audience', 'audiences', 'average', 'avoid', 'away', 'awful', 'baby', 'background', 'bad', 'bad movie', 'badly', 'band', 'based', 'basically', 'battle', 'beautiful', 'beauty', 'begin', 'beginning', 'begins', 'believable', 'believe', 'best', 'better', 'big', 'biggest', 'bit', 'bizarre', 'black', 'blood', 'body', 'book', 'bored', 'boring', 'box', 'boy', 'boys', 'br', 'br 10', 'br br', 'br br 10', 'br br film', 'br br movie', 'br br story', 'br film', 'br movie', 'br story', 'brain', 'break', 'brilliant', 'bring']\n",
      "Every 100th feature:\n",
      "['10', 'brings', 'deal', 'family', 'head', 'like', 'new', 'reality', 'soldiers', 'truth']\n"
     ]
    }
   ],
   "source": [
    "print(\"Number of features:{}\".format(len(feature_names)))\n",
    "print(\"First 100 features:\\n{}\".format(feature_names[:100]))\n",
    "print(\"Every 100th feature:\\n{}\".format(feature_names[::100]))"
   ]
  },
  {
   "cell_type": "code",
   "execution_count": 38,
   "id": "93d62a13",
   "metadata": {},
   "outputs": [],
   "source": [
    "lin_svc=LinearSVC(max_iter=120000)"
   ]
  },
  {
   "cell_type": "code",
   "execution_count": 40,
   "id": "a9999218",
   "metadata": {},
   "outputs": [
    {
     "name": "stdout",
     "output_type": "stream",
     "text": [
      "Mean cross-validation accuracy:0.81\n"
     ]
    }
   ],
   "source": [
    "scores=cross_val_score(lin_svc, X_train_features, y_train, cv=5)\n",
    "print(\"Mean cross-validation accuracy:{:.2f}\".format(np.mean(scores)))"
   ]
  },
  {
   "cell_type": "code",
   "execution_count": 41,
   "id": "1174eeac",
   "metadata": {},
   "outputs": [
    {
     "data": {
      "text/plain": [
       "LinearSVC(max_iter=120000)"
      ]
     },
     "execution_count": 41,
     "metadata": {},
     "output_type": "execute_result"
    }
   ],
   "source": [
    "lin_svc.fit(X_train_features, y_train)"
   ]
  },
  {
   "cell_type": "code",
   "execution_count": 43,
   "id": "6c308e22",
   "metadata": {},
   "outputs": [],
   "source": [
    "X_test_docs=[doc for doc in X_test.review]\n",
    "X_test_features=vect.transform(X_test_docs)"
   ]
  },
  {
   "cell_type": "code",
   "execution_count": 44,
   "id": "5cc1208f",
   "metadata": {},
   "outputs": [],
   "source": [
    "y_test_pred=lin_svc.predict(X_test_features)"
   ]
  },
  {
   "cell_type": "code",
   "execution_count": 45,
   "id": "2c811ae3",
   "metadata": {},
   "outputs": [
    {
     "data": {
      "text/plain": [
       "0.8143333333333334"
      ]
     },
     "execution_count": 45,
     "metadata": {},
     "output_type": "execute_result"
    }
   ],
   "source": [
    "metrics.accuracy_score(y_test, y_test_pred)"
   ]
  },
  {
   "cell_type": "code",
   "execution_count": 46,
   "id": "062fc0f7",
   "metadata": {},
   "outputs": [],
   "source": [
    "import pickle"
   ]
  },
  {
   "cell_type": "code",
   "execution_count": 47,
   "id": "089ded23",
   "metadata": {},
   "outputs": [],
   "source": [
    "pickle.dump(lin_svc,open('linear_svc_model','wb'))"
   ]
  },
  {
   "cell_type": "code",
   "execution_count": 29,
   "id": "4cb238a1",
   "metadata": {},
   "outputs": [],
   "source": [
    "lin_svc=pickle.load(open('linear_svc_model','rb'))\n",
    "vect=pickle.load(open('feature_transform','rb'))"
   ]
  },
  {
   "cell_type": "code",
   "execution_count": 31,
   "id": "3df69629",
   "metadata": {},
   "outputs": [],
   "source": [
    "import streamlit as st\n",
    "import pandas as pd\n",
    "import numpy as np\n",
    "import pickle\n",
    "from sklearn import metrics\n",
    "from sklearn.metrics import confusion_matrix,plot_confusion_matrix\n",
    "import matplotlib.pyplot as plt"
   ]
  },
  {
   "cell_type": "code",
   "execution_count": 36,
   "id": "6e216413",
   "metadata": {},
   "outputs": [
    {
     "name": "stdout",
     "output_type": "stream",
     "text": [
      "0.5319687979198613\n"
     ]
    },
    {
     "data": {
      "image/png": "[encoded data removed]",
      "text/plain": [
       "<Figure size 432x288 with 2 Axes>"
      ]
     },
     "metadata": {
      "needs_background": "light"
     },
     "output_type": "display_data"
    }
   ],
   "source": [
    "df = pd.read_csv('IMDB_movie_reviews_test_sample.csv')\n",
    "# st.write(df)\n",
    "\n",
    "X_test=df.loc[:,['review']]\n",
    "y_test_actual=df.sentiment\n",
    "\n",
    "X_test_docs=[doc for doc in X_test.review]\n",
    "X_test_features=vect.transform(X_test_docs)\n",
    "\n",
    "y_test_pred=lin_svc.predict(X_test_features)\n",
    "\n",
    "print(metrics.accuracy_score(y_test_actual, y_test_pred))\n",
    "\n",
    "\n",
    "confusion_matrix(y_test_actual,y_test_pred)\n",
    "picture=plot_confusion_matrix(lin_svc,X_test_features,y_test_actual,cmap=plt.cm.Blues)"
   ]
  },
  {
   "cell_type": "code",
   "execution_count": 34,
   "id": "26811a69",
   "metadata": {},
   "outputs": [
    {
     "data": {
      "text/plain": [
       "numpy.ndarray"
      ]
     },
     "execution_count": 34,
     "metadata": {},
     "output_type": "execute_result"
    }
   ],
   "source": [
    "type(confusion_matrix(y_test_actual,y_test_pred))"
   ]
  },
  {
   "cell_type": "code",
   "execution_count": 35,
   "id": "c2087a06",
   "metadata": {},
   "outputs": [
    {
     "data": {
      "text/html": [
       "<div>\n",
       "<style scoped>\n",
       "    .dataframe tbody tr th:only-of-type {\n",
       "        vertical-align: middle;\n",
       "    }\n",
       "\n",
       "    .dataframe tbody tr th {\n",
       "        vertical-align: top;\n",
       "    }\n",
       "\n",
       "    .dataframe thead th {\n",
       "        text-align: right;\n",
       "    }\n",
       "</style>\n",
       "<table border=\"1\" class=\"dataframe\">\n",
       "  <thead>\n",
       "    <tr style=\"text-align: right;\">\n",
       "      <th></th>\n",
       "      <th>0</th>\n",
       "      <th>1</th>\n",
       "    </tr>\n",
       "  </thead>\n",
       "  <tbody>\n",
       "    <tr>\n",
       "      <th>0</th>\n",
       "      <td>7061</td>\n",
       "      <td>7928</td>\n",
       "    </tr>\n",
       "    <tr>\n",
       "      <th>1</th>\n",
       "      <td>6112</td>\n",
       "      <td>8897</td>\n",
       "    </tr>\n",
       "  </tbody>\n",
       "</table>\n",
       "</div>"
      ],
      "text/plain": [
       "      0     1\n",
       "0  7061  7928\n",
       "1  6112  8897"
      ]
     },
     "execution_count": 35,
     "metadata": {},
     "output_type": "execute_result"
    }
   ],
   "source": [
    "pd.DataFrame(confusion_matrix(y_test_actual,y_test_pred))"
   ]
  },
  {
   "cell_type": "code",
   "execution_count": 39,
   "id": "11cc6e29",
   "metadata": {},
   "outputs": [],
   "source": [
    "df = pd.read_csv('IMDB_movie_reviews_test_sample.csv')"
   ]
  },
  {
   "cell_type": "code",
   "execution_count": 40,
   "id": "8d7c50b3",
   "metadata": {},
   "outputs": [
    {
     "data": {
      "text/html": [
       "<div>\n",
       "<style scoped>\n",
       "    .dataframe tbody tr th:only-of-type {\n",
       "        vertical-align: middle;\n",
       "    }\n",
       "\n",
       "    .dataframe tbody tr th {\n",
       "        vertical-align: top;\n",
       "    }\n",
       "\n",
       "    .dataframe thead th {\n",
       "        text-align: right;\n",
       "    }\n",
       "</style>\n",
       "<table border=\"1\" class=\"dataframe\">\n",
       "  <thead>\n",
       "    <tr style=\"text-align: right;\">\n",
       "      <th></th>\n",
       "      <th>review</th>\n",
       "      <th>sentiment</th>\n",
       "    </tr>\n",
       "  </thead>\n",
       "  <tbody>\n",
       "    <tr>\n",
       "      <th>0</th>\n",
       "      <td>If you like your sports movies to be about dig...</td>\n",
       "      <td>positive</td>\n",
       "    </tr>\n",
       "    <tr>\n",
       "      <th>1</th>\n",
       "      <td>This is a movie that plays to everyone's emoti...</td>\n",
       "      <td>positive</td>\n",
       "    </tr>\n",
       "    <tr>\n",
       "      <th>2</th>\n",
       "      <td>this movie is the worst EVER!!! sorry but this...</td>\n",
       "      <td>negative</td>\n",
       "    </tr>\n",
       "    <tr>\n",
       "      <th>3</th>\n",
       "      <td>After working on 7 movies with director Mickae...</td>\n",
       "      <td>positive</td>\n",
       "    </tr>\n",
       "    <tr>\n",
       "      <th>4</th>\n",
       "      <td>From the beginning this movie did have a few f...</td>\n",
       "      <td>negative</td>\n",
       "    </tr>\n",
       "    <tr>\n",
       "      <th>...</th>\n",
       "      <td>...</td>\n",
       "      <td>...</td>\n",
       "    </tr>\n",
       "    <tr>\n",
       "      <th>95</th>\n",
       "      <td>Loosely intended as a satire of D.W. Griffith'...</td>\n",
       "      <td>positive</td>\n",
       "    </tr>\n",
       "    <tr>\n",
       "      <th>96</th>\n",
       "      <td>The Girl in Lovers Lane is one strange little ...</td>\n",
       "      <td>negative</td>\n",
       "    </tr>\n",
       "    <tr>\n",
       "      <th>97</th>\n",
       "      <td>This movie was different in that it didn't sho...</td>\n",
       "      <td>negative</td>\n",
       "    </tr>\n",
       "    <tr>\n",
       "      <th>98</th>\n",
       "      <td>A mild-mannered NY lawyer (George Segal) is sl...</td>\n",
       "      <td>negative</td>\n",
       "    </tr>\n",
       "    <tr>\n",
       "      <th>99</th>\n",
       "      <td>Having just finished reading the book \"One of ...</td>\n",
       "      <td>negative</td>\n",
       "    </tr>\n",
       "  </tbody>\n",
       "</table>\n",
       "<p>100 rows × 2 columns</p>\n",
       "</div>"
      ],
      "text/plain": [
       "                                               review sentiment\n",
       "0   If you like your sports movies to be about dig...  positive\n",
       "1   This is a movie that plays to everyone's emoti...  positive\n",
       "2   this movie is the worst EVER!!! sorry but this...  negative\n",
       "3   After working on 7 movies with director Mickae...  positive\n",
       "4   From the beginning this movie did have a few f...  negative\n",
       "..                                                ...       ...\n",
       "95  Loosely intended as a satire of D.W. Griffith'...  positive\n",
       "96  The Girl in Lovers Lane is one strange little ...  negative\n",
       "97  This movie was different in that it didn't sho...  negative\n",
       "98  A mild-mannered NY lawyer (George Segal) is sl...  negative\n",
       "99  Having just finished reading the book \"One of ...  negative\n",
       "\n",
       "[100 rows x 2 columns]"
      ]
     },
     "execution_count": 40,
     "metadata": {},
     "output_type": "execute_result"
    }
   ],
   "source": [
    "df.iloc[0:100]"
   ]
  },
  {
   "cell_type": "code",
   "execution_count": null,
   "id": "0d0d80b1",
   "metadata": {},
   "outputs": [],
   "source": []
  },
  {
   "cell_type": "code",
   "execution_count": null,
   "id": "905fdcc1",
   "metadata": {},
   "outputs": [],
   "source": []
  },
  {
   "cell_type": "code",
   "execution_count": null,
   "id": "06ee1770",
   "metadata": {},
   "outputs": [],
   "source": []
  }
 ],
 "metadata": {
  "kernelspec": {
   "display_name": "Python 3 (ipykernel)",
   "language": "python",
   "name": "python3"
  },
  "language_info": {
   "codemirror_mode": {
    "name": "ipython",
    "version": 3
   },
   "file_extension": ".py",
   "mimetype": "text/x-python",
   "name": "python",
   "nbconvert_exporter": "python",
   "pygments_lexer": "ipython3",
   "version": "3.7.3"
  }
 },
 "nbformat": 4,
 "nbformat_minor": 5
}
